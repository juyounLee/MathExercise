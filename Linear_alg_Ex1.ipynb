{
  "nbformat": 4,
  "nbformat_minor": 0,
  "metadata": {
    "colab": {
      "name": "Linear_alg_Ex1.ipynb",
      "provenance": [],
      "authorship_tag": "ABX9TyPCoKRqyC7niKmJ6DKE+1Um",
      "include_colab_link": true
    },
    "kernelspec": {
      "name": "python3",
      "display_name": "Python 3"
    }
  },
  "cells": [
    {
      "cell_type": "markdown",
      "metadata": {
        "id": "view-in-github",
        "colab_type": "text"
      },
      "source": [
        "<a href=\"https://colab.research.google.com/github/juyounLee/MathExercise/blob/main/Linear_alg_Ex1.ipynb\" target=\"_parent\"><img src=\"https://colab.research.google.com/assets/colab-badge.svg\" alt=\"Open In Colab\"/></a>"
      ]
    },
    {
      "cell_type": "code",
      "metadata": {
        "id": "t6nuwOWHy4ff"
      },
      "source": [
        "import numpy as np"
      ],
      "execution_count": 1,
      "outputs": []
    },
    {
      "cell_type": "code",
      "metadata": {
        "id": "5k7zjvpYveAP",
        "outputId": "9d5aeebb-2d1d-4d23-c433-4271aff8a972",
        "colab": {
          "base_uri": "https://localhost:8080/"
        }
      },
      "source": [
        "# column vector\n",
        "\n",
        "c = np.array([1, 2, 3])\n",
        "print(c.shape)\n",
        "\n",
        "# obtaining a particular entry\n",
        "print(c[0])"
      ],
      "execution_count": 3,
      "outputs": [
        {
          "output_type": "stream",
          "text": [
            "(3,)\n",
            "1\n"
          ],
          "name": "stdout"
        }
      ]
    },
    {
      "cell_type": "code",
      "metadata": {
        "id": "gQCPqQn6vsdj",
        "outputId": "29b10386-cf83-4df3-8200-5cb0dbaf148c",
        "colab": {
          "base_uri": "https://localhost:8080/"
        }
      },
      "source": [
        "# row vector\n",
        "\n",
        "r = np.array([[1, 2, 3]])\n",
        "print(r.shape)\n",
        "\n",
        "# obtain a particular entry\n",
        "print(r[0][2])"
      ],
      "execution_count": 4,
      "outputs": [
        {
          "output_type": "stream",
          "text": [
            "(1, 3)\n",
            "3\n"
          ],
          "name": "stdout"
        }
      ]
    },
    {
      "cell_type": "code",
      "metadata": {
        "id": "835hw8MIv9m3",
        "outputId": "9d03d564-b0c7-4eed-93f8-356317a5115e",
        "colab": {
          "base_uri": "https://localhost:8080/"
        }
      },
      "source": [
        "# creating a matrix with all zeros\n",
        "a = np.zeros(3)\n",
        "print(a)"
      ],
      "execution_count": 5,
      "outputs": [
        {
          "output_type": "stream",
          "text": [
            "[0. 0. 0.]\n"
          ],
          "name": "stdout"
        }
      ]
    },
    {
      "cell_type": "code",
      "metadata": {
        "id": "kbhognj2wFcu",
        "outputId": "be00e57a-1219-4f04-ae2f-001950ce847d",
        "colab": {
          "base_uri": "https://localhost:8080/"
        }
      },
      "source": [
        "# creating a matrix with all ones\n",
        "b = np.ones(3)\n",
        "print(b)"
      ],
      "execution_count": 6,
      "outputs": [
        {
          "output_type": "stream",
          "text": [
            "[1. 1. 1.]\n"
          ],
          "name": "stdout"
        }
      ]
    },
    {
      "cell_type": "code",
      "metadata": {
        "id": "1LOe-Im9w8cP",
        "outputId": "974641ed-ccab-43e8-cd14-7d6167a57c3f",
        "colab": {
          "base_uri": "https://localhost:8080/"
        }
      },
      "source": [
        "# creating a matrix with random value\n",
        "d = np.random.random((2, 3))\n",
        "print(d)"
      ],
      "execution_count": 8,
      "outputs": [
        {
          "output_type": "stream",
          "text": [
            "[[0.2882983  0.44758152 0.63328671]\n",
            " [0.14126639 0.78060589 0.14183581]]\n"
          ],
          "name": "stdout"
        }
      ]
    },
    {
      "cell_type": "code",
      "metadata": {
        "id": "BYQup5MNxErK",
        "outputId": "372b4d11-9bc1-42dd-a03f-8ec86a377a55",
        "colab": {
          "base_uri": "https://localhost:8080/"
        }
      },
      "source": [
        "# creating a matrix\n",
        "A = np.array([[1,2], [3,4], [5,6]])\n",
        "print(A)"
      ],
      "execution_count": 9,
      "outputs": [
        {
          "output_type": "stream",
          "text": [
            "[[1 2]\n",
            " [3 4]\n",
            " [5 6]]\n"
          ],
          "name": "stdout"
        }
      ]
    },
    {
      "cell_type": "code",
      "metadata": {
        "id": "HaXSX2CQxVST",
        "outputId": "587e0c22-866f-4323-802d-080b63044db0",
        "colab": {
          "base_uri": "https://localhost:8080/"
        }
      },
      "source": [
        "B = np.array([[11,12,13,14],[15,16,17,18]])\n",
        "print(B)"
      ],
      "execution_count": 11,
      "outputs": [
        {
          "output_type": "stream",
          "text": [
            "[[11 12 13 14]\n",
            " [15 16 17 18]]\n"
          ],
          "name": "stdout"
        }
      ]
    },
    {
      "cell_type": "code",
      "metadata": {
        "id": "0rlpa7Bpxe_V",
        "outputId": "ef38f2e1-abe3-4a8e-f8b2-6db4631ce42f",
        "colab": {
          "base_uri": "https://localhost:8080/"
        }
      },
      "source": [
        "# transpose a matrix\n",
        "A.T"
      ],
      "execution_count": 12,
      "outputs": [
        {
          "output_type": "execute_result",
          "data": {
            "text/plain": [
              "array([[1, 3, 5],\n",
              "       [2, 4, 6]])"
            ]
          },
          "metadata": {
            "tags": []
          },
          "execution_count": 12
        }
      ]
    },
    {
      "cell_type": "code",
      "metadata": {
        "id": "7tweTzrtxk7R",
        "outputId": "4ad77358-798c-4019-99c8-3c5937e9adb6",
        "colab": {
          "base_uri": "https://localhost:8080/"
        }
      },
      "source": [
        "# matrix-matrix multiplication\n",
        "np.dot(A, B)"
      ],
      "execution_count": 13,
      "outputs": [
        {
          "output_type": "execute_result",
          "data": {
            "text/plain": [
              "array([[ 41,  44,  47,  50],\n",
              "       [ 93, 100, 107, 114],\n",
              "       [145, 156, 167, 178]])"
            ]
          },
          "metadata": {
            "tags": []
          },
          "execution_count": 13
        }
      ]
    },
    {
      "cell_type": "code",
      "metadata": {
        "id": "EdJzEncaxvJF"
      },
      "source": [
        "# coefficient matrix A and a vector b\n",
        "A = np.array([[60,5.5,1], [65,5.0,0], [55,6.0,1]])\n",
        "b = np.array([66, 70, 78])"
      ],
      "execution_count": 14,
      "outputs": []
    },
    {
      "cell_type": "code",
      "metadata": {
        "id": "3EZccvpgy_0e",
        "outputId": "ad0e6cc3-9e88-4f5e-b51a-2842b3e01581",
        "colab": {
          "base_uri": "https://localhost:8080/"
        }
      },
      "source": [
        "# compute an inverse\n",
        "from numpy.linalg import inv\n",
        "\n",
        "A_inv = inv(A)\n",
        "print(A_inv)"
      ],
      "execution_count": 15,
      "outputs": [
        {
          "output_type": "stream",
          "text": [
            "[[ 0.08695652  0.00869565 -0.08695652]\n",
            " [-1.13043478  0.08695652  1.13043478]\n",
            " [ 2.         -1.         -1.        ]]\n"
          ],
          "name": "stdout"
        }
      ]
    },
    {
      "cell_type": "code",
      "metadata": {
        "id": "FKHg2LN9zwh-",
        "outputId": "b515180c-b24d-4057-ec42-f9b1aa94cc5d",
        "colab": {
          "base_uri": "https://localhost:8080/"
        }
      },
      "source": [
        "# identity matrix\n",
        "i1 = np.dot(A, A_inv)\n",
        "i2 = np.dot(A_inv, A)\n",
        "print(i1)\n",
        "print(i2)"
      ],
      "execution_count": 18,
      "outputs": [
        {
          "output_type": "stream",
          "text": [
            "[[ 1.0000000e+00  0.0000000e+00 -4.4408921e-16]\n",
            " [ 8.8817842e-16  1.0000000e+00 -8.8817842e-16]\n",
            " [-8.8817842e-16  0.0000000e+00  1.0000000e+00]]\n",
            "[[ 1.00000000e+00  0.00000000e+00  0.00000000e+00]\n",
            " [-7.99360578e-15  1.00000000e+00  0.00000000e+00]\n",
            " [ 0.00000000e+00  0.00000000e+00  1.00000000e+00]]\n"
          ],
          "name": "stdout"
        }
      ]
    },
    {
      "cell_type": "code",
      "metadata": {
        "id": "nZgrG7GOzbg8",
        "outputId": "a23de7ee-303d-4770-fe10-d463117bd3f6",
        "colab": {
          "base_uri": "https://localhost:8080/"
        }
      },
      "source": [
        "answer = np.dot(A_inv, b)\n",
        "print(answer)"
      ],
      "execution_count": 17,
      "outputs": [
        {
          "output_type": "stream",
          "text": [
            "[ -0.43478261  19.65217391 -16.        ]\n"
          ],
          "name": "stdout"
        }
      ]
    },
    {
      "cell_type": "code",
      "metadata": {
        "id": "Vqx2JVhrzpES",
        "outputId": "8239a803-e3f2-441f-e917-94ca29db1497",
        "colab": {
          "base_uri": "https://localhost:8080/"
        }
      },
      "source": [
        "# a better way to solve the same linear system\n",
        "from numpy.linalg import solve\n",
        "\n",
        "answer1 = solve(A, b)\n",
        "answer1"
      ],
      "execution_count": 19,
      "outputs": [
        {
          "output_type": "execute_result",
          "data": {
            "text/plain": [
              "array([ -0.43478261,  19.65217391, -16.        ])"
            ]
          },
          "metadata": {
            "tags": []
          },
          "execution_count": 19
        }
      ]
    },
    {
      "cell_type": "code",
      "metadata": {
        "id": "81xreDJ40k4c"
      },
      "source": [
        ""
      ],
      "execution_count": null,
      "outputs": []
    }
  ]
}